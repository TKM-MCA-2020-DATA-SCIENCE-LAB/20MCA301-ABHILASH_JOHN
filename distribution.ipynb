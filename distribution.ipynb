{
  "nbformat": 4,
  "nbformat_minor": 0,
  "metadata": {
    "colab": {
      "name": "distribution.ipynb",
      "provenance": [],
      "collapsed_sections": [],
      "include_colab_link": true
    },
    "kernelspec": {
      "name": "python3",
      "display_name": "Python 3"
    },
    "language_info": {
      "name": "python"
    }
  },
  "cells": [
    {
      "cell_type": "markdown",
      "metadata": {
        "id": "view-in-github",
        "colab_type": "text"
      },
      "source": [
        "<a href=\"https://colab.research.google.com/github/TKM-MCA-2020-DATA-SCIENCE-LAB/20MCA301-ABHILASH_JOHN/blob/master/distribution.ipynb\" target=\"_parent\"><img src=\"https://colab.research.google.com/assets/colab-badge.svg\" alt=\"Open In Colab\"/></a>"
      ]
    },
    {
      "cell_type": "code",
      "execution_count": null,
      "metadata": {
        "id": "3gVf_nB_CqpX"
      },
      "outputs": [],
      "source": [
        "import seaborn as s"
      ]
    },
    {
      "cell_type": "code",
      "source": [
        "dataset=s.load_dataset('tips')"
      ],
      "metadata": {
        "id": "YjhU03ixCwGk"
      },
      "execution_count": null,
      "outputs": []
    },
    {
      "cell_type": "code",
      "source": [
        "dataset.head(10)"
      ],
      "metadata": {
        "id": "ubk3oX8VCzdj"
      },
      "execution_count": null,
      "outputs": []
    },
    {
      "cell_type": "code",
      "source": [
        "s.distplot(dataset['tip'])"
      ],
      "metadata": {
        "id": "6ZMnfolUC2IZ"
      },
      "execution_count": null,
      "outputs": []
    },
    {
      "cell_type": "code",
      "source": [
        "s.distplot(dataset['total_bill'],kde=False)"
      ],
      "metadata": {
        "id": "y6DnxO4MC6Yn"
      },
      "execution_count": null,
      "outputs": []
    },
    {
      "cell_type": "code",
      "source": [
        "s.distplot(dataset['total_bill'],kde=False,bins=30)"
      ],
      "metadata": {
        "id": "UF-IZbZZC-Gh"
      },
      "execution_count": null,
      "outputs": []
    },
    {
      "cell_type": "code",
      "source": [
        "s.jointplot(x='total_bill',y='tip',data=dataset,kind='scatter')"
      ],
      "metadata": {
        "id": "oaOSB9nnDB0e"
      },
      "execution_count": null,
      "outputs": []
    },
    {
      "cell_type": "code",
      "source": [
        "s.jointplot(x='total_bill',y='tip',data=dataset,kind='hex')"
      ],
      "metadata": {
        "id": "doBrmE4XDFxB"
      },
      "execution_count": null,
      "outputs": []
    },
    {
      "cell_type": "code",
      "source": [
        "s.jointplot(x='total_bill',y='tip',data=dataset,kind='reg')"
      ],
      "metadata": {
        "id": "CQyEl2vHDOWu"
      },
      "execution_count": null,
      "outputs": []
    },
    {
      "cell_type": "code",
      "source": [
        "s.jointplot(x='total_bill',y='tip',data=dataset,kind='resid')"
      ],
      "metadata": {
        "id": "mQBJcllQDR5g"
      },
      "execution_count": null,
      "outputs": []
    },
    {
      "cell_type": "code",
      "source": [
        "s.pairplot(dataset)"
      ],
      "metadata": {
        "id": "PyV3qn_tDVrY"
      },
      "execution_count": null,
      "outputs": []
    },
    {
      "cell_type": "code",
      "source": [
        "s.pairplot(dataset,hue='sex',palette='coolwarm')"
      ],
      "metadata": {
        "id": "vLKiqfhZDZrW"
      },
      "execution_count": null,
      "outputs": []
    },
    {
      "cell_type": "code",
      "source": [
        "s.rugplot(dataset['tip'])"
      ],
      "metadata": {
        "id": "BaxMkUDbDdQr"
      },
      "execution_count": null,
      "outputs": []
    },
    {
      "cell_type": "code",
      "source": [
        "import seaborn as sns\n",
        "import matplotlib.pyplot as plt\n",
        "%matplotlib inline"
      ],
      "metadata": {
        "id": "De53oK-qDgt0"
      },
      "execution_count": null,
      "outputs": []
    },
    {
      "cell_type": "code",
      "source": [
        "iris = sns.load_dataset('iris')"
      ],
      "metadata": {
        "id": "8M8fik9kGeC-"
      },
      "execution_count": null,
      "outputs": []
    },
    {
      "cell_type": "code",
      "source": [
        "iris.head()"
      ],
      "metadata": {
        "id": "in-X4qNxHGuj"
      },
      "execution_count": null,
      "outputs": []
    },
    {
      "cell_type": "code",
      "source": [
        "sns.PairGrid(iris)"
      ],
      "metadata": {
        "id": "ReXrQrWZHI_z"
      },
      "execution_count": null,
      "outputs": []
    },
    {
      "cell_type": "code",
      "source": [
        "g = sns.PairGrid(iris)\n",
        "g.map(plt.scatter)"
      ],
      "metadata": {
        "id": "8u63Zb5YHLrD"
      },
      "execution_count": null,
      "outputs": []
    },
    {
      "cell_type": "code",
      "source": [
        "g = sns.PairGrid(iris)\n",
        "g.map_diag(plt.hist)\n",
        "g.map_upper(plt.scatter)\n",
        "g.map_lower(sns.kdeplot)"
      ],
      "metadata": {
        "id": "ZgFBVBXYHP_C"
      },
      "execution_count": null,
      "outputs": []
    },
    {
      "cell_type": "code",
      "source": [
        "sns.pairplot(iris)"
      ],
      "metadata": {
        "id": "ol_gyQ4-HVF7"
      },
      "execution_count": null,
      "outputs": []
    },
    {
      "cell_type": "code",
      "source": [
        "sns.pairplot(iris,hue='species',palette='rainbow')"
      ],
      "metadata": {
        "id": "7i3r9VfJHZrb"
      },
      "execution_count": null,
      "outputs": []
    },
    {
      "cell_type": "code",
      "source": [
        "tips = sns.load_dataset('tips')"
      ],
      "metadata": {
        "id": "JE1Y-gxqHc1D"
      },
      "execution_count": null,
      "outputs": []
    },
    {
      "cell_type": "code",
      "source": [
        "tips.head()"
      ],
      "metadata": {
        "id": "igjq0yMUHo1k"
      },
      "execution_count": null,
      "outputs": []
    },
    {
      "cell_type": "code",
      "source": [
        "g = sns.FacetGrid(tips, col=\"time\", row=\"smoker\")"
      ],
      "metadata": {
        "id": "IgFsGfdpHq-E"
      },
      "execution_count": null,
      "outputs": []
    },
    {
      "cell_type": "code",
      "source": [
        "g = sns.FacetGrid(tips, col=\"time\",  row=\"smoker\")\n",
        "g = g.map(plt.hist, \"total_bill\")"
      ],
      "metadata": {
        "id": "kvOPivZaHtKs"
      },
      "execution_count": null,
      "outputs": []
    },
    {
      "cell_type": "code",
      "source": [
        "g = sns.FacetGrid(tips, col=\"time\",  row=\"smoker\",hue='sex')\n",
        "g = g.map(plt.scatter, \"total_bill\", \"tip\").add_legend()"
      ],
      "metadata": {
        "id": "IEOQKRAHHziU"
      },
      "execution_count": null,
      "outputs": []
    },
    {
      "cell_type": "code",
      "source": [
        "import seaborn as sns\n",
        "%matplotlib inline"
      ],
      "metadata": {
        "id": "UiidLys8H4sU"
      },
      "execution_count": null,
      "outputs": []
    },
    {
      "cell_type": "code",
      "source": [
        "tips = sns.load_dataset('tips')\n",
        "tips.head()"
      ],
      "metadata": {
        "id": "GWlByUCjIAc0"
      },
      "execution_count": null,
      "outputs": []
    },
    {
      "cell_type": "code",
      "source": [
        "sns.lmplot(x='total_bill',y='tip',data=tips)"
      ],
      "metadata": {
        "id": "nmWL7lk5IEjz"
      },
      "execution_count": null,
      "outputs": []
    },
    {
      "cell_type": "code",
      "source": [
        "sns.lmplot(x='total_bill',y='tip',hue='sex',data=tips)"
      ],
      "metadata": {
        "id": "zl75biZ1IHcj"
      },
      "execution_count": null,
      "outputs": []
    },
    {
      "cell_type": "code",
      "source": [
        "sns.countplot('sex',data=tips)"
      ],
      "metadata": {
        "id": "sYKLltymISYT"
      },
      "execution_count": null,
      "outputs": []
    },
    {
      "cell_type": "code",
      "source": [
        "sns.set_style('white')\n",
        "sns.countplot('sex',data=tips)"
      ],
      "metadata": {
        "id": "I58QMJXfIrCU"
      },
      "execution_count": null,
      "outputs": []
    },
    {
      "cell_type": "code",
      "source": [
        "sns.set_style('ticks')\n",
        "sns.countplot('sex',data=tips)"
      ],
      "metadata": {
        "id": "Z1bAXRVwI9Xk"
      },
      "execution_count": null,
      "outputs": []
    },
    {
      "cell_type": "code",
      "source": [
        "sns.countplot('sex',data=tips)\n",
        "sns.despine()"
      ],
      "metadata": {
        "id": "SY6m6tjUJDA8"
      },
      "execution_count": null,
      "outputs": []
    },
    {
      "cell_type": "code",
      "source": [
        "sns.countplot('sex',data=tips)\n",
        "sns.despine(left=True)"
      ],
      "metadata": {
        "id": "Xe1wgPYoJLvr"
      },
      "execution_count": null,
      "outputs": []
    },
    {
      "cell_type": "code",
      "source": [
        ""
      ],
      "metadata": {
        "id": "Qxkcp5gyJRx7"
      },
      "execution_count": null,
      "outputs": []
    }
  ]
}